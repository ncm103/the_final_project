{
 "cells": [
  {
   "cell_type": "code",
   "execution_count": 1,
   "metadata": {},
   "outputs": [
    {
     "name": "stdout",
     "output_type": "stream",
     "text": [
      "Requirement already satisfied: newspaper3k in /Applications/anaconda3/lib/python3.7/site-packages (0.2.8)\n",
      "Requirement already satisfied: feedparser>=5.2.1 in /Applications/anaconda3/lib/python3.7/site-packages (from newspaper3k) (5.2.1)\n",
      "Requirement already satisfied: tldextract>=2.0.1 in /Applications/anaconda3/lib/python3.7/site-packages (from newspaper3k) (2.2.2)\n",
      "Requirement already satisfied: Pillow>=3.3.0 in /Applications/anaconda3/lib/python3.7/site-packages (from newspaper3k) (6.2.0)\n",
      "Requirement already satisfied: python-dateutil>=2.5.3 in /Applications/anaconda3/lib/python3.7/site-packages (from newspaper3k) (2.8.0)\n",
      "Requirement already satisfied: beautifulsoup4>=4.4.1 in /Applications/anaconda3/lib/python3.7/site-packages (from newspaper3k) (4.8.0)\n",
      "Requirement already satisfied: feedfinder2>=0.0.4 in /Applications/anaconda3/lib/python3.7/site-packages (from newspaper3k) (0.0.4)\n",
      "Requirement already satisfied: jieba3k>=0.35.1 in /Applications/anaconda3/lib/python3.7/site-packages (from newspaper3k) (0.35.1)\n",
      "Requirement already satisfied: lxml>=3.6.0 in /Applications/anaconda3/lib/python3.7/site-packages (from newspaper3k) (4.4.1)\n",
      "Requirement already satisfied: requests>=2.10.0 in /Applications/anaconda3/lib/python3.7/site-packages (from newspaper3k) (2.22.0)\n",
      "Requirement already satisfied: tinysegmenter==0.3 in /Applications/anaconda3/lib/python3.7/site-packages (from newspaper3k) (0.3)\n",
      "Requirement already satisfied: nltk>=3.2.1 in /Applications/anaconda3/lib/python3.7/site-packages (from newspaper3k) (3.4.5)\n",
      "Requirement already satisfied: cssselect>=0.9.2 in /Applications/anaconda3/lib/python3.7/site-packages (from newspaper3k) (1.1.0)\n",
      "Requirement already satisfied: PyYAML>=3.11 in /Applications/anaconda3/lib/python3.7/site-packages (from newspaper3k) (5.1.2)\n",
      "Requirement already satisfied: requests-file>=1.4 in /Applications/anaconda3/lib/python3.7/site-packages (from tldextract>=2.0.1->newspaper3k) (1.5.1)\n",
      "Requirement already satisfied: setuptools in /Applications/anaconda3/lib/python3.7/site-packages (from tldextract>=2.0.1->newspaper3k) (41.4.0)\n",
      "Requirement already satisfied: idna in /Applications/anaconda3/lib/python3.7/site-packages (from tldextract>=2.0.1->newspaper3k) (2.8)\n",
      "Requirement already satisfied: six>=1.5 in /Applications/anaconda3/lib/python3.7/site-packages (from python-dateutil>=2.5.3->newspaper3k) (1.12.0)\n",
      "Requirement already satisfied: soupsieve>=1.2 in /Applications/anaconda3/lib/python3.7/site-packages (from beautifulsoup4>=4.4.1->newspaper3k) (1.9.3)\n",
      "Requirement already satisfied: certifi>=2017.4.17 in /Applications/anaconda3/lib/python3.7/site-packages (from requests>=2.10.0->newspaper3k) (2019.9.11)\n",
      "Requirement already satisfied: urllib3!=1.25.0,!=1.25.1,<1.26,>=1.21.1 in /Applications/anaconda3/lib/python3.7/site-packages (from requests>=2.10.0->newspaper3k) (1.24.2)\n",
      "Requirement already satisfied: chardet<3.1.0,>=3.0.2 in /Applications/anaconda3/lib/python3.7/site-packages (from requests>=2.10.0->newspaper3k) (3.0.4)\n",
      "Note: you may need to restart the kernel to use updated packages.\n"
     ]
    }
   ],
   "source": [
    "pip install newspaper3k"
   ]
  },
  {
   "cell_type": "code",
   "execution_count": 2,
   "metadata": {},
   "outputs": [],
   "source": [
    "import feedparser as fp\n",
    "import json\n",
    "import newspaper\n",
    "from newspaper import Article\n",
    "from time import mktime\n",
    "from datetime import datetime"
   ]
  },
  {
   "cell_type": "code",
   "execution_count": 19,
   "metadata": {},
   "outputs": [],
   "source": [
    "limit = 50"
   ]
  },
  {
   "cell_type": "code",
   "execution_count": 26,
   "metadata": {},
   "outputs": [],
   "source": [
    "data = {}\n",
    "data['newspapers'] = {}"
   ]
  },
  {
   "cell_type": "code",
   "execution_count": 27,
   "metadata": {},
   "outputs": [
    {
     "data": {
      "text/plain": [
       "{'newspapers': {}}"
      ]
     },
     "execution_count": 27,
     "metadata": {},
     "output_type": "execute_result"
    }
   ],
   "source": [
    "data"
   ]
  },
  {
   "cell_type": "code",
   "execution_count": 28,
   "metadata": {},
   "outputs": [],
   "source": [
    "with open('data/NewsPapers.json') as data_file:\n",
    "    companies = json.load(data_file)"
   ]
  },
  {
   "cell_type": "code",
   "execution_count": 33,
   "metadata": {},
   "outputs": [
    {
     "name": "stdout",
     "output_type": "stream",
     "text": [
      "Downloading articles from  newyorktimes_business\n",
      "Downloading articles from  newyorktimes_science\n",
      "Downloading articles from  newyorktimes_technology\n",
      "Downloading articles from  cnnmoney\n",
      "Downloading articles from  marketwatch_newsletters\n",
      "Downloading articles from  marketwatch_stories\n",
      "Downloading articles from  cnbc_top_news\n",
      "Downloading articles from  cnbc_investing\n",
      "Downloading articles from  marketwatch\n",
      "Downloading articles from  fox_business_latest_headlines\n",
      "Downloading articles from  fox_business_opinion\n",
      "Downloading articles from  entrepreneur_latest\n",
      "Downloading articles from  entrepreneur_marketing\n",
      "Downloading articles from  reuters_money\n",
      "Downloading articles from  reuters_science\n",
      "Downloading articles from  sciencedaily\n",
      "Downloading articles from  economist_business\n",
      "Downloading articles from  economist_science_and_tech\n",
      "Downloading articles from  fivethirtyeight_science\n",
      "Downloading articles from  fivethirtyeight_economics\n",
      "Downloading articles from  nbpostgazette\n",
      "Downloading articles from  journalismday\n",
      "Downloading articles from  satprnews\n",
      "Downloading articles from  insidertradings\n",
      "Downloading articles from  truthfulreporter\n",
      "Downloading articles from  highlandmirror\n",
      "Downloading articles from  thefinancialanalyst\n",
      "Downloading articles from  reportagestuff\n",
      "Downloading articles from  tokenfolks\n",
      "Downloading articles from  heraldanalyst\n",
      "Downloading articles from  findmarketresearch\n"
     ]
    }
   ],
   "source": [
    "count = 1\n",
    "for company, value in companies.items():\n",
    "    if 'rss' in value:\n",
    "            d = fp.parse(value['rss'])\n",
    "            print(\"Downloading articles from \", company)\n",
    "            newsPaper = {\n",
    "                \"rss\": value['rss'],\n",
    "                \"link\": value['link'],\n",
    "                \"articles\": []\n",
    "            }\n"
   ]
  },
  {
   "cell_type": "code",
   "execution_count": 36,
   "metadata": {},
   "outputs": [
    {
     "name": "stdout",
     "output_type": "stream",
     "text": [
      "Downloading articles from  newyorktimes_business\n",
      "10 articles downloaded from  newyorktimes_business , url:  https://www.nytimes.com/2020/05/16/health/fda-clears-another-coronavirus-testing-kit-for-use-at-home.html\n",
      "20 articles downloaded from  newyorktimes_business , url:  https://www.nytimes.com/2020/05/15/business/covid-mortgage-forbearance.html\n",
      "30 articles downloaded from  newyorktimes_business , url:  https://www.nytimes.com/2020/05/15/your-money/coronavirus-credit-reports.html\n",
      "40 articles downloaded from  newyorktimes_business , url:  https://www.nytimes.com/2020/05/15/business/movie-theaters-coronavirus.html\n",
      "50 articles downloaded from  newyorktimes_business , url:  https://www.nytimes.com/2020/05/14/business/media/quartz-to-lay-off-80-employees.html\n",
      "Downloading articles from  newyorktimes_science\n",
      "10 articles downloaded from  newyorktimes_science , url:  https://www.nytimes.com/2020/05/16/obituaries/peter-brancazio-dead-coronavirus.html\n",
      "20 articles downloaded from  newyorktimes_science , url:  https://www.nytimes.com/2020/05/14/world/asia/coronavirus-testing-china-wuhan.html\n",
      "30 articles downloaded from  newyorktimes_science , url:  https://www.nytimes.com/2020/05/12/us/coronavirus-live-news-updates.html\n",
      "40 articles downloaded from  newyorktimes_science , url:  https://www.nytimes.com/2020/05/11/world/coronavirus-news.html\n",
      "Downloading articles from  newyorktimes_technology\n",
      "10 articles downloaded from  newyorktimes_technology , url:  https://www.nytimes.com/2020/05/14/technology/tiktok-kids-privacy.html\n",
      "20 articles downloaded from  newyorktimes_technology , url:  https://www.nytimes.com/2020/05/12/technology/self-driving-cars-coronavirus.html\n",
      "Downloading articles from  cnnmoney\n",
      "Downloading articles from  marketwatch_newsletters\n",
      "Downloading articles from  marketwatch_stories\n",
      "10 articles downloaded from  marketwatch_stories , url:  http://www.marketwatch.com/news/story.asp?guid=%7BCE54E4AA-8F18-11EA-BF80-ADEBCF1A58C2%7D&siteid=rss&rss=1\n",
      "Downloading articles from  cnbc_top_news\n",
      "10 articles downloaded from  cnbc_top_news , url:  https://www.cnbc.com/2020/05/16/coronavirus-nearly-killed-this-young-bronx-man.html\n",
      "20 articles downloaded from  cnbc_top_news , url:  https://www.cnbc.com/2020/05/16/coronavirus-how-sleepaway-camps-can-provide-protective-bubble.html\n",
      "30 articles downloaded from  cnbc_top_news , url:  https://www.cnbc.com/2020/05/16/saudi-sovereign-fund-discloses-stakes-in-citi-boeing-facebook.html\n",
      "Downloading articles from  cnbc_investing\n",
      "10 articles downloaded from  cnbc_investing , url:  https://www.cnbc.com/2020/05/12/young-investors-pile-into-stocks-seeing-generational-buying-moment-instead-of-risk.html\n",
      "20 articles downloaded from  cnbc_investing , url:  https://www.cnbc.com/2020/05/07/cargo-carriers-are-reaping-the-rewards-of-the-coronavirus-slowdown-in-air-travel.html\n",
      "30 articles downloaded from  cnbc_investing , url:  https://www.cnbc.com/2020/05/04/us-airline-stocks-tumble-after-buffett-sells-whole-stakes.html\n",
      "Downloading articles from  marketwatch\n",
      "10 articles downloaded from  marketwatch , url:  https://www.theguardian.com/inequality/2020/may/16/pm-faces-calls-for-independent-inquiry-into-bame-covid-19-deaths\n",
      "20 articles downloaded from  marketwatch , url:  https://www.theguardian.com/commentisfree/2020/may/16/however-obedient-its-citizens-are-the-government-cant-help-but-revert-to-thuggish-type\n",
      "30 articles downloaded from  marketwatch , url:  https://www.theguardian.com/uk-news/2020/may/16/uk-police-fear-explosion-of-violent-as-lockdown-eases\n",
      "40 articles downloaded from  marketwatch , url:  https://www.theguardian.com/music/2020/may/16/the-new-queen-bee-rihanna-is-crowned-worlds-wealthiest-female-musician\n",
      "50 articles downloaded from  marketwatch , url:  https://www.theguardian.com/sport/2020/may/16/nfl-players-armed-robbery-charges-florida-deandre-baker-quinton-dunbar\n",
      "Downloading articles from  fox_business_latest_headlines\n",
      "10 articles downloaded from  fox_business_latest_headlines , url:  https://www.foxnews.com/politics/us-immigration-agency-payroll-congressional-help\n",
      "Downloading articles from  fox_business_opinion\n",
      "10 articles downloaded from  fox_business_opinion , url:  http://feeds.foxnews.com/~r/foxnews/opinion/~3/yBybQnybRjg/justin-haskins-3t-coronavirus-relief-bill-passed-by-house-dems-funds-most-radical-programs-in-us-history\n",
      "20 articles downloaded from  fox_business_opinion , url:  http://feeds.foxnews.com/~r/foxnews/opinion/~3/qd3h-3qIdRg/gutfeld-on-the-medias-lack-of-self-reflection\n",
      "Downloading articles from  entrepreneur_latest\n",
      "10 articles downloaded from  entrepreneur_latest , url:  http://feedproxy.google.com/~r/entrepreneur/latest/~3/rWqeXtL-GJw/350626\n",
      "Downloading articles from  entrepreneur_marketing\n",
      "10 articles downloaded from  entrepreneur_marketing , url:  http://feedproxy.google.com/~r/entrepreneur/salesandmarketing/~3/VR6L5NYBxi8/349820\n",
      "Downloading articles from  reuters_money\n",
      "10 articles downloaded from  reuters_money , url:  http://feeds.reuters.com/~r/news/wealth/~3/F0_qlX6sxIk/us-money-market-assets-increased-in-latest-week-imoneynet-idUSKBN22B343\n",
      "20 articles downloaded from  reuters_money , url:  http://feeds.reuters.com/~r/news/wealth/~3/c2nBTzyimPA/column-dropping-medicare-age-to-60-no-more-than-a-start-in-the-right-direction-idUSKCN21Y23Z\n",
      "Downloading articles from  reuters_science\n",
      "10 articles downloaded from  reuters_science , url:  http://feeds.reuters.com/~r/reuters/scienceNews/~3/aB8mD1ha_jI/copper-takes-aim-at-covid-19-with-virus-killer-coatings-idUSKBN22K0RX\n",
      "20 articles downloaded from  reuters_science , url:  http://feeds.reuters.com/~r/reuters/scienceNews/~3/4d1A5GIShT4/neutralizing-antibody-new-virus-details-to-aid-vaccine-research-idUSKBN22G2DS\n",
      "Downloading articles from  sciencedaily\n",
      "10 articles downloaded from  sciencedaily , url:  https://www.sciencedaily.com/releases/2020/05/200515131911.htm\n",
      "20 articles downloaded from  sciencedaily , url:  https://www.sciencedaily.com/releases/2020/05/200515103923.htm\n",
      "30 articles downloaded from  sciencedaily , url:  https://www.sciencedaily.com/releases/2020/05/200515085708.htm\n",
      "40 articles downloaded from  sciencedaily , url:  https://www.sciencedaily.com/releases/2020/05/200514143540.htm\n",
      "50 articles downloaded from  sciencedaily , url:  https://www.sciencedaily.com/releases/2020/05/200514143510.htm\n",
      "Downloading articles from  economist_business\n",
      "Downloading articles from  economist_science_and_tech\n",
      "Downloading articles from  fivethirtyeight_science\n",
      "10 articles downloaded from  fivethirtyeight_science , url:  https://fivethirtyeight.com/features/what-we-know-about-crises-and-domestic-violence-and-what-that-could-mean-for-covid-19/\n",
      "20 articles downloaded from  fivethirtyeight_science , url:  https://fivethirtyeight.com/features/how-one-high-risk-community-in-rural-south-carolina-is-bracing-for-covid-19/\n",
      "Downloading articles from  fivethirtyeight_economics\n",
      "10 articles downloaded from  fivethirtyeight_economics , url:  https://fivethirtyeight.com/features/have-states-with-lockdown-protests-been-hit-harder-by-unemployment/\n",
      "20 articles downloaded from  fivethirtyeight_economics , url:  https://fivethirtyeight.com/features/americas-social-safety-net-wasnt-ready-for-the-coronavirus-crisis/\n",
      "Downloading articles from  nbpostgazette\n",
      "10 articles downloaded from  nbpostgazette , url:  https://nbpostgazette.com/world-laughter-day-history-significance-facts-benefits-quotes-greetings-messages/?utm_source=rss&utm_medium=rss&utm_campaign=world-laughter-day-history-significance-facts-benefits-quotes-greetings-messages\n",
      "Downloading articles from  journalismday\n",
      "10 articles downloaded from  journalismday , url:  https://journalismday.com/2017/07/global-microtomes-market-2/\n",
      "Downloading articles from  satprnews\n",
      "10 articles downloaded from  satprnews , url:  https://satprnews.com/2020/05/12/weird-asteroid-discovered-in-jupiters-orbit/\n",
      "Downloading articles from  insidertradings\n",
      "Downloading articles from  truthfulreporter\n",
      "Downloading articles from  highlandmirror\n",
      "Downloading articles from  thefinancialanalyst\n",
      "Downloading articles from  reportagestuff\n",
      "Downloading articles from  tokenfolks\n",
      "Downloading articles from  heraldanalyst\n",
      "Downloading articles from  findmarketresearch\n",
      "saving articles . . . in data/scraped_articles.json\n"
     ]
    }
   ],
   "source": [
    "count = 1\n",
    "for company, value in companies.items():\n",
    "    if 'rss' in value:\n",
    "            d = fp.parse(value['rss'])\n",
    "            print(\"Downloading articles from \", company)\n",
    "            newsPaper = {\n",
    "                \"rss\": value['rss'],\n",
    "                \"link\": value['link'],\n",
    "                \"articles\": []\n",
    "            }\n",
    "\n",
    "            for entry in d.entries:\n",
    "                if hasattr(entry,'published'):\n",
    "                    if count > limit:\n",
    "                        break\n",
    "                    article = {}\n",
    "                    article['link'] = entry.link\n",
    "                    date = entry.published_parsed\n",
    "                    article['published'] = datetime.fromtimestamp(mktime(date)).isoformat()\n",
    "                    try:\n",
    "                        content = Article(entry.link)\n",
    "                        content.download()\n",
    "                        content.parse()\n",
    "                    except Exception as e:\n",
    "                        print(e)\n",
    "                        print(\"continuing...\")\n",
    "                        continue\n",
    "                    article['title'] = content.title\n",
    "                    article['text'] = content.text\n",
    "                    article['author'] = content.authors\n",
    "                    newsPaper['articles'].append(article)\n",
    "                    if count % 10 == 0:\n",
    "                        print(count, \"articles downloaded from \", company, \", url: \", entry.link)\n",
    "                    count = count + 1\n",
    "    else:\n",
    "        print(\"Buiding site for \", company)\n",
    "        paper = newspaper.build(value['link'], memorize_articles = False)\n",
    "        newsPaper = {\n",
    "            \"link\": value['link'],\n",
    "            \"articles\": []\n",
    "        }\n",
    "        noneTypeCount = 0\n",
    "        for content in paper.articles:\n",
    "            if count > limit:\n",
    "                break\n",
    "            try:\n",
    "                content.download()\n",
    "                content.parse()\n",
    "            except Exception as e:\n",
    "                print(e)\n",
    "                print(\"continuing...\")\n",
    "                continue\n",
    "            if content.publish_date is None:\n",
    "                print(count, \"Article has date of type None...\")\n",
    "                noneTypeCount = noneTypeCount + 1\n",
    "                if noneTypeCount > 10:\n",
    "                    print(\"Too many noneTypes dates, aborting...\")\n",
    "                    noneTypeCount = 0\n",
    "                    break\n",
    "                count = count + 1\n",
    "                continue\n",
    "            article = {}\n",
    "            article['title'] = content.title\n",
    "            article['text'] = content.text\n",
    "            article['link'] = content.url\n",
    "            article['published'] = content.publish_date.isoformat()\n",
    "            article['author'] = content.authors\n",
    "            newsPaper['articles'].append(article)\n",
    "            if count % 10 == 0:\n",
    "                 print(count, \"articles downloaded from\", company, \" using newspaper, url: \", content.url)\n",
    "            count = count + 1\n",
    "            noneTypeCount = 0\n",
    "    count = 1\n",
    "    data['newspapers'][company] = newsPaper\n",
    "\n",
    "try:\n",
    "    fname = 'data/scraped_articles.json'\n",
    "    print('saving articles . . . in {}'.format(fname))\n",
    "    with open(fname, 'w') as outfile:\n",
    "        json.dump(data, outfile)\n",
    "except Exception as e: print(e)   \n",
    "                "
   ]
  },
  {
   "cell_type": "code",
   "execution_count": null,
   "metadata": {},
   "outputs": [],
   "source": []
  }
 ],
 "metadata": {
  "kernelspec": {
   "display_name": "Python 3",
   "language": "python",
   "name": "python3"
  },
  "language_info": {
   "codemirror_mode": {
    "name": "ipython",
    "version": 3
   },
   "file_extension": ".py",
   "mimetype": "text/x-python",
   "name": "python",
   "nbconvert_exporter": "python",
   "pygments_lexer": "ipython3",
   "version": "3.7.4"
  }
 },
 "nbformat": 4,
 "nbformat_minor": 2
}
