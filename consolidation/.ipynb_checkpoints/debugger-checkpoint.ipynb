{
 "cells": [
  {
   "cell_type": "code",
   "execution_count": 1,
   "metadata": {},
   "outputs": [],
   "source": [
    "import flask\n",
    "import tensorflow\n",
    "import pandas as pd\n",
    "from tensorflow import keras\n",
    "#from load import *"
   ]
  },
  {
   "cell_type": "code",
   "execution_count": 2,
   "metadata": {},
   "outputs": [
    {
     "name": "stderr",
     "output_type": "stream",
     "text": [
      "Using TensorFlow backend.\n"
     ]
    }
   ],
   "source": [
    "import numpy as np\n",
    "import keras.models\n",
    "from keras.models import model_from_json\n",
    "# from scipy.misc import imread, imresize,imshow\n",
    "import tensorflow as tf\n"
   ]
  },
  {
   "cell_type": "code",
   "execution_count": 3,
   "metadata": {},
   "outputs": [
    {
     "name": "stdout",
     "output_type": "stream",
     "text": [
      "Awesome, your model has been loaded from disk! Cool beans!\n"
     ]
    }
   ],
   "source": [
    "# def init(): \n",
    "from sklearn.preprocessing import StandardScaler\n",
    "json_file = open('model\\model.json','r')\n",
    "loaded_model_json = json_file.read()\n",
    "json_file.close()\n",
    "loaded_model = tf.keras.models.model_from_json(loaded_model_json)\n",
    "#load weights into new model\n",
    "loaded_model.load_weights(\"model\\model.h5\")\n",
    "print(\"Awesome, your model has been loaded from disk! Cool beans!\")\n",
    "\n",
    "#compile and evaluate loaded model\n",
    "loaded_model.compile(loss='categorical_crossentropy',optimizer='adam',metrics=['accuracy'])\n",
    "#loss,accuracy = model.evaluate(X_test,y_test)\n",
    "#print('loss:', loss)\n",
    "#print('accuracy:', accuracy)\n",
    "#graph = tf.get_default_graph()\n",
    "\n",
    "#     return loaded_model"
   ]
  },
  {
   "cell_type": "code",
   "execution_count": 12,
   "metadata": {},
   "outputs": [
    {
     "name": "stdout",
     "output_type": "stream",
     "text": [
      "Awesome, your scaler has been loaded from disk! Cool beans!\n"
     ]
    }
   ],
   "source": [
    "from pickle import load\n",
    "scaler = load(open('model\\scaler.pkl', 'rb'))\n",
    "print(\"Awesome, your scaler has been loaded from disk! Cool beans!\")"
   ]
  },
  {
   "cell_type": "code",
   "execution_count": 29,
   "metadata": {},
   "outputs": [],
   "source": [
    "# def main():\n",
    "R_Weight = 90\n",
    "R_Height = 180\n",
    "R_Age = 32\n",
    "B_Weight = 85\n",
    "B_Height = 190\n",
    "B_Age = 28\n",
    "RPrev = 2.130049\n",
    "BPrev = 1.756650\n",
    "BStreak = 0.643350\n",
    "RStreak = 0.748768\n",
    "input_variables = pd.DataFrame([[BPrev, BStreak, B_Age,B_Height,B_Weight,RPrev, RStreak, R_Age,R_Height,R_Weight]],\n",
    "                                   columns=['BPrev','BStreak','B_Age','B_Height','B_Weight','RPrev','RStreak','R_Age','R_Height','R_Weight'],\n",
    "                                   dtype=float)"
   ]
  },
  {
   "cell_type": "code",
   "execution_count": 30,
   "metadata": {},
   "outputs": [
    {
     "data": {
      "text/html": [
       "<div>\n",
       "<style scoped>\n",
       "    .dataframe tbody tr th:only-of-type {\n",
       "        vertical-align: middle;\n",
       "    }\n",
       "\n",
       "    .dataframe tbody tr th {\n",
       "        vertical-align: top;\n",
       "    }\n",
       "\n",
       "    .dataframe thead th {\n",
       "        text-align: right;\n",
       "    }\n",
       "</style>\n",
       "<table border=\"1\" class=\"dataframe\">\n",
       "  <thead>\n",
       "    <tr style=\"text-align: right;\">\n",
       "      <th></th>\n",
       "      <th>BPrev</th>\n",
       "      <th>BStreak</th>\n",
       "      <th>B_Age</th>\n",
       "      <th>B_Height</th>\n",
       "      <th>B_Weight</th>\n",
       "      <th>RPrev</th>\n",
       "      <th>RStreak</th>\n",
       "      <th>R_Age</th>\n",
       "      <th>R_Height</th>\n",
       "      <th>R_Weight</th>\n",
       "    </tr>\n",
       "  </thead>\n",
       "  <tbody>\n",
       "    <tr>\n",
       "      <td>0</td>\n",
       "      <td>1.75665</td>\n",
       "      <td>0.64335</td>\n",
       "      <td>28.0</td>\n",
       "      <td>190.0</td>\n",
       "      <td>85.0</td>\n",
       "      <td>2.130049</td>\n",
       "      <td>0.748768</td>\n",
       "      <td>32.0</td>\n",
       "      <td>180.0</td>\n",
       "      <td>90.0</td>\n",
       "    </tr>\n",
       "  </tbody>\n",
       "</table>\n",
       "</div>"
      ],
      "text/plain": [
       "     BPrev  BStreak  B_Age  B_Height  B_Weight     RPrev   RStreak  R_Age  \\\n",
       "0  1.75665  0.64335   28.0     190.0      85.0  2.130049  0.748768   32.0   \n",
       "\n",
       "   R_Height  R_Weight  \n",
       "0     180.0      90.0  "
      ]
     },
     "execution_count": 30,
     "metadata": {},
     "output_type": "execute_result"
    }
   ],
   "source": [
    "input_variables"
   ]
  },
  {
   "cell_type": "code",
   "execution_count": 31,
   "metadata": {},
   "outputs": [],
   "source": [
    "input_scaled = scaler.transform(input_variables)"
   ]
  },
  {
   "cell_type": "code",
   "execution_count": 32,
   "metadata": {},
   "outputs": [
    {
     "data": {
      "text/plain": [
       "array([[-1.29905173e-07,  2.38459315e-07, -7.54412287e-01,\n",
       "         1.46394061e+00,  7.55390191e-01, -1.32132588e-07,\n",
       "        -4.10215957e-07,  1.58648836e-01,  2.91619076e-01,\n",
       "         1.06138084e+00]])"
      ]
     },
     "execution_count": 32,
     "metadata": {},
     "output_type": "execute_result"
    }
   ],
   "source": [
    "input_scaled"
   ]
  },
  {
   "cell_type": "code",
   "execution_count": 33,
   "metadata": {},
   "outputs": [],
   "source": [
    "prediction = loaded_model.predict(input_scaled)[0]"
   ]
  },
  {
   "cell_type": "code",
   "execution_count": 34,
   "metadata": {},
   "outputs": [
    {
     "data": {
      "text/plain": [
       "array([0., 1.], dtype=float32)"
      ]
     },
     "execution_count": 34,
     "metadata": {},
     "output_type": "execute_result"
    }
   ],
   "source": [
    "np.round(prediction)"
   ]
  },
  {
   "cell_type": "code",
   "execution_count": 35,
   "metadata": {},
   "outputs": [
    {
     "data": {
      "text/plain": [
       "array([0.44226682, 0.55773324], dtype=float32)"
      ]
     },
     "execution_count": 35,
     "metadata": {},
     "output_type": "execute_result"
    }
   ],
   "source": [
    "prediction"
   ]
  },
  {
   "cell_type": "code",
   "execution_count": null,
   "metadata": {},
   "outputs": [],
   "source": []
  },
  {
   "cell_type": "code",
   "execution_count": null,
   "metadata": {},
   "outputs": [],
   "source": []
  },
  {
   "cell_type": "code",
   "execution_count": null,
   "metadata": {},
   "outputs": [],
   "source": []
  },
  {
   "cell_type": "code",
   "execution_count": null,
   "metadata": {},
   "outputs": [],
   "source": []
  },
  {
   "cell_type": "code",
   "execution_count": null,
   "metadata": {},
   "outputs": [],
   "source": []
  },
  {
   "cell_type": "code",
   "execution_count": null,
   "metadata": {},
   "outputs": [],
   "source": []
  },
  {
   "cell_type": "code",
   "execution_count": null,
   "metadata": {},
   "outputs": [],
   "source": []
  },
  {
   "cell_type": "code",
   "execution_count": null,
   "metadata": {},
   "outputs": [],
   "source": []
  }
 ],
 "metadata": {
  "kernelspec": {
   "display_name": "Python 3",
   "language": "python",
   "name": "python3"
  },
  "language_info": {
   "codemirror_mode": {
    "name": "ipython",
    "version": 3
   },
   "file_extension": ".py",
   "mimetype": "text/x-python",
   "name": "python",
   "nbconvert_exporter": "python",
   "pygments_lexer": "ipython3",
   "version": "3.7.4"
  }
 },
 "nbformat": 4,
 "nbformat_minor": 2
}
