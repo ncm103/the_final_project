{
 "cells": [
  {
   "cell_type": "code",
   "execution_count": 1,
   "metadata": {},
   "outputs": [
    {
     "name": "stderr",
     "output_type": "stream",
     "text": [
      "Using TensorFlow backend.\n"
     ]
    }
   ],
   "source": [
    "import tensorflow as tf\n",
    "import keras\n",
    "from keras.models import model_from_json \n",
    "from tensorflow.keras.utils import to_categorical\n",
    "import pandas as pd\n",
    "import numpy as np\n",
    "from sklearn.preprocessing import StandardScaler\n",
    "from sklearn.preprocessing import LabelEncoder\n",
    "from tensorflow.keras.utils import to_categorical\n",
    "from tensorflow.keras.models import Sequential\n",
    "from tensorflow.keras.layers import Dense"
   ]
  },
  {
   "cell_type": "code",
   "execution_count": 2,
   "metadata": {},
   "outputs": [],
   "source": [
    "# opening and store file in a variable\n",
    "json_file = open('model.json','r')\n",
    "loaded_model_json = json_file.read()\n",
    "json_file.close()"
   ]
  },
  {
   "cell_type": "code",
   "execution_count": 3,
   "metadata": {},
   "outputs": [],
   "source": [
    "# use Keras model_from_json to make a loaded model\n",
    "loaded_model = tf.keras.models.model_from_json(loaded_model_json)"
   ]
  },
  {
   "cell_type": "code",
   "execution_count": 4,
   "metadata": {},
   "outputs": [
    {
     "name": "stdout",
     "output_type": "stream",
     "text": [
      "Loaded Model from disk\n"
     ]
    }
   ],
   "source": [
    "# load weights into new model\n",
    "loaded_model.load_weights(\"model.h5\")\n",
    "print(\"Loaded Model from disk\")\n",
    "\n",
    "# compile and evaluate loaded model\n",
    "loaded_model.compile(loss='categorical_crossentropy',optimizer='adam',metrics=['accuracy'])"
   ]
  },
  {
   "cell_type": "code",
   "execution_count": 5,
   "metadata": {},
   "outputs": [
    {
     "data": {
      "text/html": [
       "<div>\n",
       "<style scoped>\n",
       "    .dataframe tbody tr th:only-of-type {\n",
       "        vertical-align: middle;\n",
       "    }\n",
       "\n",
       "    .dataframe tbody tr th {\n",
       "        vertical-align: top;\n",
       "    }\n",
       "\n",
       "    .dataframe thead th {\n",
       "        text-align: right;\n",
       "    }\n",
       "</style>\n",
       "<table border=\"1\" class=\"dataframe\">\n",
       "  <thead>\n",
       "    <tr style=\"text-align: right;\">\n",
       "      <th></th>\n",
       "      <th>BPrev</th>\n",
       "      <th>BStreak</th>\n",
       "      <th>B_Age</th>\n",
       "      <th>B_Height</th>\n",
       "      <th>B_HomeTown</th>\n",
       "      <th>B_ID</th>\n",
       "      <th>B_Location</th>\n",
       "      <th>B_Name</th>\n",
       "      <th>B_Weight</th>\n",
       "      <th>B__Round1_Grappling_Reversals_Landed</th>\n",
       "      <th>...</th>\n",
       "      <th>R__Round5_TIP_Ground Time</th>\n",
       "      <th>R__Round5_TIP_Guard Control Time</th>\n",
       "      <th>R__Round5_TIP_Half Guard Control Time</th>\n",
       "      <th>R__Round5_TIP_Misc. Ground Control Time</th>\n",
       "      <th>R__Round5_TIP_Mount Control Time</th>\n",
       "      <th>R__Round5_TIP_Neutral Time</th>\n",
       "      <th>R__Round5_TIP_Side Control Time</th>\n",
       "      <th>R__Round5_TIP_Standing Time</th>\n",
       "      <th>winby</th>\n",
       "      <th>winner</th>\n",
       "    </tr>\n",
       "  </thead>\n",
       "  <tbody>\n",
       "    <tr>\n",
       "      <td>0</td>\n",
       "      <td>1</td>\n",
       "      <td>1</td>\n",
       "      <td>23.0</td>\n",
       "      <td>182.0</td>\n",
       "      <td>Trento Italy</td>\n",
       "      <td>2783</td>\n",
       "      <td>Mezzocorona Italy</td>\n",
       "      <td>Carlos Diego Ferreira</td>\n",
       "      <td>84</td>\n",
       "      <td>0.0</td>\n",
       "      <td>...</td>\n",
       "      <td>NaN</td>\n",
       "      <td>NaN</td>\n",
       "      <td>NaN</td>\n",
       "      <td>NaN</td>\n",
       "      <td>NaN</td>\n",
       "      <td>NaN</td>\n",
       "      <td>NaN</td>\n",
       "      <td>NaN</td>\n",
       "      <td>DEC</td>\n",
       "      <td>blue</td>\n",
       "    </tr>\n",
       "    <tr>\n",
       "      <td>1</td>\n",
       "      <td>0</td>\n",
       "      <td>0</td>\n",
       "      <td>32.0</td>\n",
       "      <td>175.0</td>\n",
       "      <td>Careiro da Várzea, Amazonas Brazil</td>\n",
       "      <td>2208</td>\n",
       "      <td>Pharr, Texas USA</td>\n",
       "      <td>Takanori Gomi</td>\n",
       "      <td>70</td>\n",
       "      <td>NaN</td>\n",
       "      <td>...</td>\n",
       "      <td>NaN</td>\n",
       "      <td>NaN</td>\n",
       "      <td>NaN</td>\n",
       "      <td>NaN</td>\n",
       "      <td>NaN</td>\n",
       "      <td>NaN</td>\n",
       "      <td>NaN</td>\n",
       "      <td>NaN</td>\n",
       "      <td>SUB</td>\n",
       "      <td>red</td>\n",
       "    </tr>\n",
       "    <tr>\n",
       "      <td>2</td>\n",
       "      <td>2</td>\n",
       "      <td>0</td>\n",
       "      <td>38.0</td>\n",
       "      <td>172.0</td>\n",
       "      <td>Kanagawa Japan</td>\n",
       "      <td>721</td>\n",
       "      <td>Tokyo Japan</td>\n",
       "      <td>Brandon Moreno</td>\n",
       "      <td>70</td>\n",
       "      <td>0.0</td>\n",
       "      <td>...</td>\n",
       "      <td>NaN</td>\n",
       "      <td>NaN</td>\n",
       "      <td>NaN</td>\n",
       "      <td>NaN</td>\n",
       "      <td>NaN</td>\n",
       "      <td>NaN</td>\n",
       "      <td>NaN</td>\n",
       "      <td>NaN</td>\n",
       "      <td>KO/TKO</td>\n",
       "      <td>blue</td>\n",
       "    </tr>\n",
       "    <tr>\n",
       "      <td>3</td>\n",
       "      <td>0</td>\n",
       "      <td>0</td>\n",
       "      <td>23.0</td>\n",
       "      <td>170.0</td>\n",
       "      <td>Tijuana Mexico</td>\n",
       "      <td>2825</td>\n",
       "      <td>Tijuana Mexico</td>\n",
       "      <td>Elizabeth Phillips</td>\n",
       "      <td>56</td>\n",
       "      <td>NaN</td>\n",
       "      <td>...</td>\n",
       "      <td>NaN</td>\n",
       "      <td>NaN</td>\n",
       "      <td>NaN</td>\n",
       "      <td>NaN</td>\n",
       "      <td>NaN</td>\n",
       "      <td>NaN</td>\n",
       "      <td>NaN</td>\n",
       "      <td>NaN</td>\n",
       "      <td>SUB</td>\n",
       "      <td>red</td>\n",
       "    </tr>\n",
       "    <tr>\n",
       "      <td>4</td>\n",
       "      <td>3</td>\n",
       "      <td>1</td>\n",
       "      <td>30.0</td>\n",
       "      <td>167.0</td>\n",
       "      <td>Spokane, WA USA</td>\n",
       "      <td>2260</td>\n",
       "      <td>Spokane, WA USA</td>\n",
       "      <td>Reza Madadi</td>\n",
       "      <td>61</td>\n",
       "      <td>0.0</td>\n",
       "      <td>...</td>\n",
       "      <td>NaN</td>\n",
       "      <td>NaN</td>\n",
       "      <td>NaN</td>\n",
       "      <td>NaN</td>\n",
       "      <td>NaN</td>\n",
       "      <td>NaN</td>\n",
       "      <td>NaN</td>\n",
       "      <td>NaN</td>\n",
       "      <td>DEC</td>\n",
       "      <td>blue</td>\n",
       "    </tr>\n",
       "  </tbody>\n",
       "</table>\n",
       "<p>5 rows × 895 columns</p>\n",
       "</div>"
      ],
      "text/plain": [
       "   BPrev  BStreak  B_Age  B_Height                          B_HomeTown  B_ID  \\\n",
       "0      1        1   23.0     182.0                        Trento Italy  2783   \n",
       "1      0        0   32.0     175.0  Careiro da Várzea, Amazonas Brazil  2208   \n",
       "2      2        0   38.0     172.0                      Kanagawa Japan   721   \n",
       "3      0        0   23.0     170.0                      Tijuana Mexico  2825   \n",
       "4      3        1   30.0     167.0                     Spokane, WA USA  2260   \n",
       "\n",
       "          B_Location                 B_Name  B_Weight  \\\n",
       "0  Mezzocorona Italy  Carlos Diego Ferreira        84   \n",
       "1   Pharr, Texas USA          Takanori Gomi        70   \n",
       "2        Tokyo Japan         Brandon Moreno        70   \n",
       "3     Tijuana Mexico     Elizabeth Phillips        56   \n",
       "4    Spokane, WA USA            Reza Madadi        61   \n",
       "\n",
       "   B__Round1_Grappling_Reversals_Landed  ...  R__Round5_TIP_Ground Time  \\\n",
       "0                                   0.0  ...                        NaN   \n",
       "1                                   NaN  ...                        NaN   \n",
       "2                                   0.0  ...                        NaN   \n",
       "3                                   NaN  ...                        NaN   \n",
       "4                                   0.0  ...                        NaN   \n",
       "\n",
       "   R__Round5_TIP_Guard Control Time  R__Round5_TIP_Half Guard Control Time  \\\n",
       "0                               NaN                                    NaN   \n",
       "1                               NaN                                    NaN   \n",
       "2                               NaN                                    NaN   \n",
       "3                               NaN                                    NaN   \n",
       "4                               NaN                                    NaN   \n",
       "\n",
       "   R__Round5_TIP_Misc. Ground Control Time  R__Round5_TIP_Mount Control Time  \\\n",
       "0                                      NaN                               NaN   \n",
       "1                                      NaN                               NaN   \n",
       "2                                      NaN                               NaN   \n",
       "3                                      NaN                               NaN   \n",
       "4                                      NaN                               NaN   \n",
       "\n",
       "   R__Round5_TIP_Neutral Time  R__Round5_TIP_Side Control Time  \\\n",
       "0                         NaN                              NaN   \n",
       "1                         NaN                              NaN   \n",
       "2                         NaN                              NaN   \n",
       "3                         NaN                              NaN   \n",
       "4                         NaN                              NaN   \n",
       "\n",
       "   R__Round5_TIP_Standing Time   winby  winner  \n",
       "0                          NaN     DEC    blue  \n",
       "1                          NaN     SUB     red  \n",
       "2                          NaN  KO/TKO    blue  \n",
       "3                          NaN     SUB     red  \n",
       "4                          NaN     DEC    blue  \n",
       "\n",
       "[5 rows x 895 columns]"
      ]
     },
     "execution_count": 5,
     "metadata": {},
     "output_type": "execute_result"
    }
   ],
   "source": [
    "ufc = pd.read_csv(\"data2.csv\")\n",
    "ufc.head()"
   ]
  },
  {
   "cell_type": "code",
   "execution_count": 6,
   "metadata": {},
   "outputs": [
    {
     "data": {
      "text/plain": [
       "BPrev                              1476\n",
       "BStreak                            1476\n",
       "B_Age                              1473\n",
       "B_Height                           1475\n",
       "B_HomeTown                         1470\n",
       "                                   ... \n",
       "R__Round5_TIP_Neutral Time          144\n",
       "R__Round5_TIP_Side Control Time     144\n",
       "R__Round5_TIP_Standing Time         144\n",
       "winby                              1460\n",
       "winner                             1476\n",
       "Length: 895, dtype: int64"
      ]
     },
     "execution_count": 6,
     "metadata": {},
     "output_type": "execute_result"
    }
   ],
   "source": [
    "ufc.count()"
   ]
  },
  {
   "cell_type": "code",
   "execution_count": 7,
   "metadata": {},
   "outputs": [
    {
     "data": {
      "text/html": [
       "<div>\n",
       "<style scoped>\n",
       "    .dataframe tbody tr th:only-of-type {\n",
       "        vertical-align: middle;\n",
       "    }\n",
       "\n",
       "    .dataframe tbody tr th {\n",
       "        vertical-align: top;\n",
       "    }\n",
       "\n",
       "    .dataframe thead th {\n",
       "        text-align: right;\n",
       "    }\n",
       "</style>\n",
       "<table border=\"1\" class=\"dataframe\">\n",
       "  <thead>\n",
       "    <tr style=\"text-align: right;\">\n",
       "      <th></th>\n",
       "      <th>BPrev</th>\n",
       "      <th>BStreak</th>\n",
       "      <th>B_Age</th>\n",
       "      <th>B_Height</th>\n",
       "      <th>B_HomeTown</th>\n",
       "      <th>B_ID</th>\n",
       "      <th>B_Location</th>\n",
       "      <th>B_Name</th>\n",
       "      <th>B_Weight</th>\n",
       "      <th>B__Round1_Grappling_Reversals_Landed</th>\n",
       "      <th>...</th>\n",
       "      <th>R__Round5_TIP_Ground Time</th>\n",
       "      <th>R__Round5_TIP_Guard Control Time</th>\n",
       "      <th>R__Round5_TIP_Half Guard Control Time</th>\n",
       "      <th>R__Round5_TIP_Misc. Ground Control Time</th>\n",
       "      <th>R__Round5_TIP_Mount Control Time</th>\n",
       "      <th>R__Round5_TIP_Neutral Time</th>\n",
       "      <th>R__Round5_TIP_Side Control Time</th>\n",
       "      <th>R__Round5_TIP_Standing Time</th>\n",
       "      <th>winby</th>\n",
       "      <th>winner</th>\n",
       "    </tr>\n",
       "  </thead>\n",
       "  <tbody>\n",
       "    <tr>\n",
       "      <td>0</td>\n",
       "      <td>1</td>\n",
       "      <td>1</td>\n",
       "      <td>23.0</td>\n",
       "      <td>182.0</td>\n",
       "      <td>Trento Italy</td>\n",
       "      <td>2783</td>\n",
       "      <td>Mezzocorona Italy</td>\n",
       "      <td>Carlos Diego Ferreira</td>\n",
       "      <td>84</td>\n",
       "      <td>0.0</td>\n",
       "      <td>...</td>\n",
       "      <td>NaN</td>\n",
       "      <td>NaN</td>\n",
       "      <td>NaN</td>\n",
       "      <td>NaN</td>\n",
       "      <td>NaN</td>\n",
       "      <td>NaN</td>\n",
       "      <td>NaN</td>\n",
       "      <td>NaN</td>\n",
       "      <td>DEC</td>\n",
       "      <td>blue</td>\n",
       "    </tr>\n",
       "    <tr>\n",
       "      <td>1</td>\n",
       "      <td>0</td>\n",
       "      <td>0</td>\n",
       "      <td>32.0</td>\n",
       "      <td>175.0</td>\n",
       "      <td>Careiro da Várzea, Amazonas Brazil</td>\n",
       "      <td>2208</td>\n",
       "      <td>Pharr, Texas USA</td>\n",
       "      <td>Takanori Gomi</td>\n",
       "      <td>70</td>\n",
       "      <td>NaN</td>\n",
       "      <td>...</td>\n",
       "      <td>NaN</td>\n",
       "      <td>NaN</td>\n",
       "      <td>NaN</td>\n",
       "      <td>NaN</td>\n",
       "      <td>NaN</td>\n",
       "      <td>NaN</td>\n",
       "      <td>NaN</td>\n",
       "      <td>NaN</td>\n",
       "      <td>SUB</td>\n",
       "      <td>red</td>\n",
       "    </tr>\n",
       "    <tr>\n",
       "      <td>2</td>\n",
       "      <td>2</td>\n",
       "      <td>0</td>\n",
       "      <td>38.0</td>\n",
       "      <td>172.0</td>\n",
       "      <td>Kanagawa Japan</td>\n",
       "      <td>721</td>\n",
       "      <td>Tokyo Japan</td>\n",
       "      <td>Brandon Moreno</td>\n",
       "      <td>70</td>\n",
       "      <td>0.0</td>\n",
       "      <td>...</td>\n",
       "      <td>NaN</td>\n",
       "      <td>NaN</td>\n",
       "      <td>NaN</td>\n",
       "      <td>NaN</td>\n",
       "      <td>NaN</td>\n",
       "      <td>NaN</td>\n",
       "      <td>NaN</td>\n",
       "      <td>NaN</td>\n",
       "      <td>KO/TKO</td>\n",
       "      <td>blue</td>\n",
       "    </tr>\n",
       "    <tr>\n",
       "      <td>3</td>\n",
       "      <td>0</td>\n",
       "      <td>0</td>\n",
       "      <td>23.0</td>\n",
       "      <td>170.0</td>\n",
       "      <td>Tijuana Mexico</td>\n",
       "      <td>2825</td>\n",
       "      <td>Tijuana Mexico</td>\n",
       "      <td>Elizabeth Phillips</td>\n",
       "      <td>56</td>\n",
       "      <td>NaN</td>\n",
       "      <td>...</td>\n",
       "      <td>NaN</td>\n",
       "      <td>NaN</td>\n",
       "      <td>NaN</td>\n",
       "      <td>NaN</td>\n",
       "      <td>NaN</td>\n",
       "      <td>NaN</td>\n",
       "      <td>NaN</td>\n",
       "      <td>NaN</td>\n",
       "      <td>SUB</td>\n",
       "      <td>red</td>\n",
       "    </tr>\n",
       "    <tr>\n",
       "      <td>4</td>\n",
       "      <td>3</td>\n",
       "      <td>1</td>\n",
       "      <td>30.0</td>\n",
       "      <td>167.0</td>\n",
       "      <td>Spokane, WA USA</td>\n",
       "      <td>2260</td>\n",
       "      <td>Spokane, WA USA</td>\n",
       "      <td>Reza Madadi</td>\n",
       "      <td>61</td>\n",
       "      <td>0.0</td>\n",
       "      <td>...</td>\n",
       "      <td>NaN</td>\n",
       "      <td>NaN</td>\n",
       "      <td>NaN</td>\n",
       "      <td>NaN</td>\n",
       "      <td>NaN</td>\n",
       "      <td>NaN</td>\n",
       "      <td>NaN</td>\n",
       "      <td>NaN</td>\n",
       "      <td>DEC</td>\n",
       "      <td>blue</td>\n",
       "    </tr>\n",
       "  </tbody>\n",
       "</table>\n",
       "<p>5 rows × 895 columns</p>\n",
       "</div>"
      ],
      "text/plain": [
       "   BPrev  BStreak  B_Age  B_Height                          B_HomeTown  B_ID  \\\n",
       "0      1        1   23.0     182.0                        Trento Italy  2783   \n",
       "1      0        0   32.0     175.0  Careiro da Várzea, Amazonas Brazil  2208   \n",
       "2      2        0   38.0     172.0                      Kanagawa Japan   721   \n",
       "3      0        0   23.0     170.0                      Tijuana Mexico  2825   \n",
       "4      3        1   30.0     167.0                     Spokane, WA USA  2260   \n",
       "\n",
       "          B_Location                 B_Name  B_Weight  \\\n",
       "0  Mezzocorona Italy  Carlos Diego Ferreira        84   \n",
       "1   Pharr, Texas USA          Takanori Gomi        70   \n",
       "2        Tokyo Japan         Brandon Moreno        70   \n",
       "3     Tijuana Mexico     Elizabeth Phillips        56   \n",
       "4    Spokane, WA USA            Reza Madadi        61   \n",
       "\n",
       "   B__Round1_Grappling_Reversals_Landed  ...  R__Round5_TIP_Ground Time  \\\n",
       "0                                   0.0  ...                        NaN   \n",
       "1                                   NaN  ...                        NaN   \n",
       "2                                   0.0  ...                        NaN   \n",
       "3                                   NaN  ...                        NaN   \n",
       "4                                   0.0  ...                        NaN   \n",
       "\n",
       "   R__Round5_TIP_Guard Control Time  R__Round5_TIP_Half Guard Control Time  \\\n",
       "0                               NaN                                    NaN   \n",
       "1                               NaN                                    NaN   \n",
       "2                               NaN                                    NaN   \n",
       "3                               NaN                                    NaN   \n",
       "4                               NaN                                    NaN   \n",
       "\n",
       "   R__Round5_TIP_Misc. Ground Control Time  R__Round5_TIP_Mount Control Time  \\\n",
       "0                                      NaN                               NaN   \n",
       "1                                      NaN                               NaN   \n",
       "2                                      NaN                               NaN   \n",
       "3                                      NaN                               NaN   \n",
       "4                                      NaN                               NaN   \n",
       "\n",
       "   R__Round5_TIP_Neutral Time  R__Round5_TIP_Side Control Time  \\\n",
       "0                         NaN                              NaN   \n",
       "1                         NaN                              NaN   \n",
       "2                         NaN                              NaN   \n",
       "3                         NaN                              NaN   \n",
       "4                         NaN                              NaN   \n",
       "\n",
       "   R__Round5_TIP_Standing Time   winby  winner  \n",
       "0                          NaN     DEC    blue  \n",
       "1                          NaN     SUB     red  \n",
       "2                          NaN  KO/TKO    blue  \n",
       "3                          NaN     SUB     red  \n",
       "4                          NaN     DEC    blue  \n",
       "\n",
       "[5 rows x 895 columns]"
      ]
     },
     "execution_count": 7,
     "metadata": {},
     "output_type": "execute_result"
    }
   ],
   "source": [
    "ufc = ufc[ufc.winner != 'no contest']\n",
    "ufc = ufc[ufc.winner != 'draw']\n",
    "#ufc_zero = ufc.fillna(0)\n",
    "ufc_zero = ufc.copy()\n",
    "ufc_zero.head()"
   ]
  },
  {
   "cell_type": "code",
   "execution_count": 8,
   "metadata": {},
   "outputs": [],
   "source": [
    "idealcol = ['BPrev','BStreak','B_Age','B_Height','B_Weight','RPrev','RStreak','R_Age','R_Height','R_Weight','winner']\n",
    "ufc_filtered = ufc_zero[idealcol].copy()"
   ]
  },
  {
   "cell_type": "code",
   "execution_count": 9,
   "metadata": {},
   "outputs": [],
   "source": [
    "#ufc_filtered[\"winner\"]= ufc_filtered[\"winner\"].replace(\"red\", 0)\n",
    "#ufc_filtered[\"winner\"]= ufc_filtered[\"winner\"].replace(\"blue\", 1)\n",
    "#ufc_filtered"
   ]
  },
  {
   "cell_type": "code",
   "execution_count": 10,
   "metadata": {},
   "outputs": [
    {
     "data": {
      "text/plain": [
       "BPrev       1450\n",
       "BStreak     1450\n",
       "B_Age       1447\n",
       "B_Height    1449\n",
       "B_Weight    1450\n",
       "RPrev       1450\n",
       "RStreak     1450\n",
       "R_Age       1449\n",
       "R_Height    1450\n",
       "R_Weight    1450\n",
       "winner      1450\n",
       "dtype: int64"
      ]
     },
     "execution_count": 10,
     "metadata": {},
     "output_type": "execute_result"
    }
   ],
   "source": [
    "ufc_filtered.count()"
   ]
  },
  {
   "cell_type": "code",
   "execution_count": 11,
   "metadata": {},
   "outputs": [],
   "source": [
    "ufc_filtered['BPrev'] = ufc_filtered['BPrev'].fillna(np.mean(ufc_filtered['BPrev']))\n",
    "ufc_filtered['BStreak'] = ufc_filtered['BStreak'].fillna(np.mean(ufc_filtered['BStreak']))\n",
    "ufc_filtered['B_Age'] = ufc_filtered['B_Age'].fillna(np.mean(ufc_filtered['B_Age']))\n",
    "ufc_filtered['B_Height'] = ufc_filtered['B_Height'].fillna(np.mean(ufc_filtered['B_Height']))\n",
    "ufc_filtered['B_Weight'] = ufc_filtered['B_Weight'].fillna(np.mean(ufc_filtered['B_Weight']))\n",
    "ufc_filtered['RPrev'] = ufc_filtered['RPrev'].fillna(np.mean(ufc_filtered['RPrev']))\n",
    "ufc_filtered['RStreak'] = ufc_filtered['RStreak'].fillna(np.mean(ufc_filtered['RStreak']))\n",
    "ufc_filtered['R_Age'] = ufc_filtered['R_Age'].fillna(np.mean(ufc_filtered['R_Age']))\n",
    "ufc_filtered['R_Height'] = ufc_filtered['R_Height'].fillna(np.mean(ufc_filtered['R_Height']))\n",
    "ufc_filtered['R_Weight'] = ufc_filtered['R_Weight'].fillna(np.mean(ufc_filtered['R_Weight']))"
   ]
  },
  {
   "cell_type": "code",
   "execution_count": 12,
   "metadata": {},
   "outputs": [
    {
     "data": {
      "text/plain": [
       "BPrev       1450\n",
       "BStreak     1450\n",
       "B_Age       1450\n",
       "B_Height    1450\n",
       "B_Weight    1450\n",
       "RPrev       1450\n",
       "RStreak     1450\n",
       "R_Age       1450\n",
       "R_Height    1450\n",
       "R_Weight    1450\n",
       "winner      1450\n",
       "dtype: int64"
      ]
     },
     "execution_count": 12,
     "metadata": {},
     "output_type": "execute_result"
    }
   ],
   "source": [
    "ufc_filtered.count()"
   ]
  },
  {
   "cell_type": "code",
   "execution_count": 14,
   "metadata": {},
   "outputs": [],
   "source": [
    "feature_cols2 = ['BPrev','BStreak','B_Age','B_Height','B_Weight','RPrev','RStreak','R_Age','R_Height','R_Weight']\n",
    "X = ufc_filtered[feature_cols2] # Features"
   ]
  },
  {
   "cell_type": "code",
   "execution_count": 19,
   "metadata": {},
   "outputs": [],
   "source": [
    "X_scaler = StandardScaler().fit(X)"
   ]
  },
  {
   "cell_type": "code",
   "execution_count": 20,
   "metadata": {},
   "outputs": [],
   "source": [
    "X_train_scaled = X_scaler.transform(X)"
   ]
  },
  {
   "cell_type": "code",
   "execution_count": 21,
   "metadata": {},
   "outputs": [],
   "source": [
    "X_test_scaled = X_scaler.transform(X)"
   ]
  },
  {
   "cell_type": "code",
   "execution_count": 23,
   "metadata": {},
   "outputs": [],
   "source": [
    "ynew = loaded_model.predict(X_test_scaled)"
   ]
  },
  {
   "cell_type": "code",
   "execution_count": 25,
   "metadata": {},
   "outputs": [
    {
     "data": {
      "text/plain": [
       "array([[0., 1.],\n",
       "       [0., 1.],\n",
       "       [0., 1.],\n",
       "       ...,\n",
       "       [1., 0.],\n",
       "       [0., 1.],\n",
       "       [1., 0.]], dtype=float32)"
      ]
     },
     "execution_count": 25,
     "metadata": {},
     "output_type": "execute_result"
    }
   ],
   "source": [
    "np.round(ynew)"
   ]
  },
  {
   "cell_type": "code",
   "execution_count": 24,
   "metadata": {},
   "outputs": [
    {
     "name": "stdout",
     "output_type": "stream",
     "text": [
      "[[0.30770248 0.69229746]\n",
      " [0.3459469  0.6540531 ]\n",
      " [0.23892936 0.7610706 ]\n",
      " ...\n",
      " [0.66263074 0.3373693 ]\n",
      " [0.42340785 0.57659215]\n",
      " [0.559208   0.44079208]]\n"
     ]
    }
   ],
   "source": [
    "print(ynew)"
   ]
  },
  {
   "cell_type": "code",
   "execution_count": null,
   "metadata": {},
   "outputs": [],
   "source": []
  },
  {
   "cell_type": "code",
   "execution_count": null,
   "metadata": {},
   "outputs": [],
   "source": []
  },
  {
   "cell_type": "code",
   "execution_count": null,
   "metadata": {},
   "outputs": [],
   "source": []
  }
 ],
 "metadata": {
  "kernelspec": {
   "display_name": "Python 3",
   "language": "python",
   "name": "python3"
  },
  "language_info": {
   "codemirror_mode": {
    "name": "ipython",
    "version": 3
   },
   "file_extension": ".py",
   "mimetype": "text/x-python",
   "name": "python",
   "nbconvert_exporter": "python",
   "pygments_lexer": "ipython3",
   "version": "3.7.4"
  }
 },
 "nbformat": 4,
 "nbformat_minor": 2
}
