{
 "cells": [
  {
   "cell_type": "code",
   "execution_count": 1,
   "metadata": {
    "scrolled": true
   },
   "outputs": [],
   "source": [
    "import feedparser as fp\n",
    "import json\n",
    "import newspaper\n",
    "from newspaper import Article\n",
    "from time import mktime\n",
    "from datetime import datetime"
   ]
  },
  {
   "cell_type": "code",
   "execution_count": 2,
   "metadata": {},
   "outputs": [],
   "source": [
    "LIMIT = 50"
   ]
  },
  {
   "cell_type": "code",
   "execution_count": 3,
   "metadata": {},
   "outputs": [],
   "source": [
    "data = {}\n",
    "data['newspapers'] = {}"
   ]
  },
  {
   "cell_type": "code",
   "execution_count": 4,
   "metadata": {},
   "outputs": [
    {
     "data": {
      "text/plain": [
       "{'newspapers': {}}"
      ]
     },
     "execution_count": 4,
     "metadata": {},
     "output_type": "execute_result"
    }
   ],
   "source": [
    "data"
   ]
  },
  {
   "cell_type": "code",
   "execution_count": 5,
   "metadata": {},
   "outputs": [],
   "source": [
    "with open('newspapers.json') as data_file:\n",
    "    companies = json.load(data_file)"
   ]
  },
  {
   "cell_type": "code",
   "execution_count": 6,
   "metadata": {},
   "outputs": [
    {
     "data": {
      "text/plain": [
       "<_io.TextIOWrapper name='newspapers.json' mode='r' encoding='cp1252'>"
      ]
     },
     "execution_count": 6,
     "metadata": {},
     "output_type": "execute_result"
    }
   ],
   "source": [
    "data_file"
   ]
  },
  {
   "cell_type": "code",
   "execution_count": 7,
   "metadata": {},
   "outputs": [
    {
     "name": "stdout",
     "output_type": "stream",
     "text": [
      "Downloading articles from  newyorktimes_business\n",
      "10 articles downloaded from newyorktimes_business , url:  https://www.nytimes.com/2020/05/16/business/deficits-virus-economists-trump.html\n",
      "20 articles downloaded from newyorktimes_business , url:  https://www.nytimes.com/2020/05/15/arts/design/christies-auction-coronavirus.html\n",
      "30 articles downloaded from newyorktimes_business , url:  https://www.nytimes.com/2020/05/15/briefing/11-of-our-best-weekend-reads.html\n",
      "40 articles downloaded from newyorktimes_business , url:  https://www.nytimes.com/2020/05/14/technology/trump-tsmc-us-chip-facility.html\n",
      "50 articles downloaded from newyorktimes_business , url:  https://www.nytimes.com/2020/05/14/business/social-distancing-gdp-coronavirus.html\n",
      "Downloading articles from  newyorktimes_science\n",
      "10 articles downloaded from newyorktimes_science , url:  https://www.nytimes.com/2020/05/16/us/coronavirus-live-updates.html\n",
      "20 articles downloaded from newyorktimes_science , url:  https://www.nytimes.com/2020/05/14/us/coronavirus-news-updates.html\n",
      "30 articles downloaded from newyorktimes_science , url:  https://www.nytimes.com/2020/05/12/science/comet-swan.html\n",
      "40 articles downloaded from newyorktimes_science , url:  https://www.nytimes.com/2020/05/10/world/europe/coronavirus-britain-boris-johnson.html\n",
      "Downloading articles from  newyorktimes_technology\n",
      "10 articles downloaded from newyorktimes_technology , url:  https://www.nytimes.com/2020/05/14/technology/tiktok-kids-privacy.html\n",
      "20 articles downloaded from newyorktimes_technology , url:  https://www.nytimes.com/2020/05/12/technology/self-driving-cars-coronavirus.html\n",
      "Downloading articles from  cnnmoney\n",
      "Downloading articles from  marketwatch_newsletters\n",
      "Downloading articles from  marketwatch_stories\n",
      "10 articles downloaded from marketwatch_stories , url:  http://www.marketwatch.com/news/story.asp?guid=%7B693A6487-20B5-4A43-B116-A9D8F3477237%7D&siteid=rss&rss=1\n",
      "Downloading articles from  cnbc_top_news\n",
      "10 articles downloaded from cnbc_top_news , url:  https://www.cnbc.com/2020/05/16/op-ed-amazon-should-disclose-coronavirus-deaths.html\n",
      "20 articles downloaded from cnbc_top_news , url:  https://www.cnbc.com/2020/05/15/amazon-declines-to-commit-to-jeff-bezos-testimony-in-congress.html\n",
      "30 articles downloaded from cnbc_top_news , url:  https://www.cnbc.com/2020/05/16/rwanda-genocide-suspect-kabuga-arrested-in-paris-region-french-justice-ministry-says.html\n",
      "Downloading articles from  cnbc_investing\n",
      "10 articles downloaded from cnbc_investing , url:  https://www.cnbc.com/2020/05/12/young-investors-pile-into-stocks-seeing-generational-buying-moment-instead-of-risk.html\n",
      "20 articles downloaded from cnbc_investing , url:  https://www.cnbc.com/2020/05/07/cargo-carriers-are-reaping-the-rewards-of-the-coronavirus-slowdown-in-air-travel.html\n",
      "30 articles downloaded from cnbc_investing , url:  https://www.cnbc.com/2020/05/04/us-airline-stocks-tumble-after-buffett-sells-whole-stakes.html\n",
      "Downloading articles from  marketwatch\n",
      "10 articles downloaded from marketwatch , url:  https://www.theguardian.com/world/2020/may/16/tourist-hotspots-busy-despite-coronavirus-warnings\n",
      "20 articles downloaded from marketwatch , url:  https://www.theguardian.com/commentisfree/2020/may/16/however-obedient-its-citizens-are-the-government-cant-help-but-revert-to-thuggish-type\n",
      "30 articles downloaded from marketwatch , url:  https://www.theguardian.com/society/2020/may/16/rough-sleepers-must-not-be-put-back-on-streets-after-lockdown-says-top-tory\n",
      "40 articles downloaded from marketwatch , url:  https://www.theguardian.com/music/2020/may/16/the-new-queen-bee-rihanna-is-crowned-worlds-wealthiest-female-musician\n",
      "50 articles downloaded from marketwatch , url:  https://www.theguardian.com/sport/2020/may/16/is-it-royal-ascot-without-us-irish-concern-over-racings-restarts\n",
      "Downloading articles from  fox_business_latest_headlines\n",
      "10 articles downloaded from fox_business_latest_headlines , url:  https://www.foxnews.com/world/new-zealand-jacinda-ardern-cafe-coronavirus-capacity\n",
      "Downloading articles from  fox_business_opinion\n",
      "10 articles downloaded from fox_business_opinion , url:  http://feeds.foxnews.com/~r/foxnews/opinion/~3/FIiVlZkIm_Y/adriana-cohen-apparent-seditious-anti-trump-conspiracy-by-obama-officials-must-be-investigated\n",
      "20 articles downloaded from fox_business_opinion , url:  http://feeds.foxnews.com/~r/foxnews/opinion/~3/Qn72GuK6sE4/flynn-case-abuses-protect-liberty-without-sacrificing-security-rand-paul\n",
      "Downloading articles from  entrepreneur_latest\n",
      "10 articles downloaded from entrepreneur_latest , url:  http://feedproxy.google.com/~r/entrepreneur/latest/~3/Z2Ewz2gZtow/350256\n",
      "Downloading articles from  entrepreneur_marketing\n",
      "10 articles downloaded from entrepreneur_marketing , url:  http://feedproxy.google.com/~r/entrepreneur/salesandmarketing/~3/VR6L5NYBxi8/349820\n",
      "Downloading articles from  reuters_money\n",
      "10 articles downloaded from reuters_money , url:  http://feeds.reuters.com/~r/news/wealth/~3/F0_qlX6sxIk/us-money-market-assets-increased-in-latest-week-imoneynet-idUSKBN22B343\n",
      "20 articles downloaded from reuters_money , url:  http://feeds.reuters.com/~r/news/wealth/~3/c2nBTzyimPA/column-dropping-medicare-age-to-60-no-more-than-a-start-in-the-right-direction-idUSKCN21Y23Z\n",
      "Downloading articles from  reuters_science\n",
      "10 articles downloaded from reuters_science , url:  http://feeds.reuters.com/~r/reuters/scienceNews/~3/aB8mD1ha_jI/copper-takes-aim-at-covid-19-with-virus-killer-coatings-idUSKBN22K0RX\n",
      "20 articles downloaded from reuters_science , url:  http://feeds.reuters.com/~r/reuters/scienceNews/~3/4d1A5GIShT4/neutralizing-antibody-new-virus-details-to-aid-vaccine-research-idUSKBN22G2DS\n",
      "Downloading articles from  sciencedaily\n",
      "10 articles downloaded from sciencedaily , url:  https://www.sciencedaily.com/releases/2020/05/200515115654.htm\n",
      "20 articles downloaded from sciencedaily , url:  https://www.sciencedaily.com/releases/2020/05/200515085708.htm\n",
      "30 articles downloaded from sciencedaily , url:  https://www.sciencedaily.com/releases/2020/05/200514143510.htm\n",
      "40 articles downloaded from sciencedaily , url:  https://www.sciencedaily.com/releases/2020/05/200514115849.htm\n",
      "50 articles downloaded from sciencedaily , url:  https://www.sciencedaily.com/releases/2020/05/200514115751.htm\n",
      "Downloading articles from  economist_business\n",
      "Downloading articles from  economist_science_and_tech\n",
      "Downloading articles from  fivethirtyeight_science\n",
      "10 articles downloaded from fivethirtyeight_science , url:  https://fivethirtyeight.com/features/what-we-know-about-crises-and-domestic-violence-and-what-that-could-mean-for-covid-19/\n",
      "20 articles downloaded from fivethirtyeight_science , url:  https://fivethirtyeight.com/features/how-one-high-risk-community-in-rural-south-carolina-is-bracing-for-covid-19/\n",
      "Downloading articles from  fivethirtyeight_economics\n",
      "10 articles downloaded from fivethirtyeight_economics , url:  https://fivethirtyeight.com/features/have-states-with-lockdown-protests-been-hit-harder-by-unemployment/\n",
      "20 articles downloaded from fivethirtyeight_economics , url:  https://fivethirtyeight.com/features/americas-social-safety-net-wasnt-ready-for-the-coronavirus-crisis/\n",
      "Downloading articles from  nbpostgazette\n",
      "10 articles downloaded from nbpostgazette , url:  https://nbpostgazette.com/world-laughter-day-history-significance-facts-benefits-quotes-greetings-messages/?utm_source=rss&utm_medium=rss&utm_campaign=world-laughter-day-history-significance-facts-benefits-quotes-greetings-messages\n",
      "Downloading articles from  journalismday\n",
      "10 articles downloaded from journalismday , url:  https://journalismday.com/2017/07/global-microtomes-market-2/\n",
      "Downloading articles from  satprnews\n",
      "10 articles downloaded from satprnews , url:  https://satprnews.com/2020/05/12/weird-asteroid-discovered-in-jupiters-orbit/\n",
      "Downloading articles from  insidertradings\n",
      "Downloading articles from  truthfulreporter\n",
      "Downloading articles from  highlandmirror\n",
      "Downloading articles from  thefinancialanalyst\n",
      "Downloading articles from  reportagestuff\n",
      "Downloading articles from  tokenfolks\n",
      "Downloading articles from  heraldanalyst\n",
      "Downloading articles from  findmarketresearch\n",
      "saving articles . . . in scraped_articles.json\n"
     ]
    }
   ],
   "source": [
    "count = 1\n",
    "\n",
    "# Iterate through each news company\n",
    "# the company is the name, the value is the dictionary of links\n",
    "for company, value in companies.items():\n",
    "    # If a RSS link is provided in the JSON file, this will be the first choice.\n",
    "    # Reason for this is that, RSS feeds often give more consistent and correct data.\n",
    "    # If you do not want to scrape from the RSS-feed, just leave the RSS attr empty in the JSON file.\n",
    "    if 'rss' in value:\n",
    "        d = fp.parse(value['rss'])\n",
    "        print(\"Downloading articles from \", company)\n",
    "        newsPaper = {\n",
    "            \"rss\": value['rss'],\n",
    "            \"link\": value['link'],\n",
    "            \"articles\": []\n",
    "        }\n",
    "        for entry in d.entries:\n",
    "            # Check if publish date is provided, if no the article is skipped.\n",
    "            # This is done to keep consistency in the data and to keep the script from crashing.\n",
    "            if hasattr(entry, 'published'):\n",
    "                if count > LIMIT:\n",
    "                    break\n",
    "                article = {}\n",
    "                article['link'] = entry.link\n",
    "                date = entry.published_parsed\n",
    "                article['published'] = datetime.fromtimestamp(mktime(date)).isoformat()\n",
    "                try:\n",
    "                    content = Article(entry.link)\n",
    "                    content.download()\n",
    "                    content.parse()\n",
    "                except Exception as e:\n",
    "                    # If the download for some reason fails (ex. 404) the script will continue downloading\n",
    "                    # the next article.\n",
    "                    print(e)\n",
    "                    print(\"continuing...\")\n",
    "                    continue\n",
    "                article['title'] = content.title\n",
    "                article['text'] = content.text\n",
    "                article['author'] = content.authors\n",
    "                newsPaper['articles'].append(article)\n",
    "                if count % 10 == 0:\n",
    "                    print(count, \"articles downloaded from\", company, \", url: \", entry.link)\n",
    "                count = count + 1\n",
    "    else:\n",
    "        # This is the fallback method if a RSS-feed link is not provided.\n",
    "        # It uses the python newspaper library to extract articles\n",
    "        print(\"Building site for \", company)\n",
    "        paper = newspaper.build(value['link'], memoize_articles=False)\n",
    "        newsPaper = {\n",
    "            \"link\": value['link'],\n",
    "            \"articles\": []\n",
    "        }\n",
    "        noneTypeCount = 0\n",
    "        for content in paper.articles:\n",
    "            if count > LIMIT:\n",
    "                break\n",
    "            try:\n",
    "                content.download()\n",
    "                content.parse()\n",
    "            except Exception as e:\n",
    "                print(e)\n",
    "                print(\"continuing...\")\n",
    "                continue\n",
    "            # Again, for consistency, if there is no found publish date the article will be skipped.\n",
    "            # After 10 downloaded articles from the same newspaper without publish date, the company will be skipped.\n",
    "            if content.publish_date is None:\n",
    "                print(count, \" Article has date of type None...\")\n",
    "                noneTypeCount = noneTypeCount + 1\n",
    "                if noneTypeCount > 10:\n",
    "                    print(\"Too many noneType dates, aborting...\")\n",
    "                    noneTypeCount = 0\n",
    "                    break\n",
    "                count = count + 1\n",
    "                continue\n",
    "            article = {}\n",
    "            article['title'] = content.title\n",
    "            article['text'] = content.text\n",
    "            article['link'] = content.url\n",
    "            article['published'] = content.publish_date.isoformat()\n",
    "            article['author'] = content.authors\n",
    "            newsPaper['articles'].append(article)\n",
    "            if count % 10 == 0: \n",
    "                print(count, \"articles downloaded from\", company, \" using newspaper, url: \", content.url)\n",
    "            count = count + 1\n",
    "            noneTypeCount = 0\n",
    "    count = 1\n",
    "    data['newspapers'][company] = newsPaper\n",
    "\n",
    "\n",
    "# Finally it saves the articles as a JSON-file.\n",
    "try:\n",
    "    fname = 'scraped_articles.json'\n",
    "    print('saving articles . . . in {}'.format(fname))\n",
    "    with open(fname, 'w') as outfile:\n",
    "        json.dump(data, outfile)\n",
    "except Exception as e: print(e)"
   ]
  }
 ],
 "metadata": {
  "kernelspec": {
   "display_name": "Python 3",
   "language": "python",
   "name": "python3"
  },
  "language_info": {
   "codemirror_mode": {
    "name": "ipython",
    "version": 3
   },
   "file_extension": ".py",
   "mimetype": "text/x-python",
   "name": "python",
   "nbconvert_exporter": "python",
   "pygments_lexer": "ipython3",
   "version": "3.7.4"
  }
 },
 "nbformat": 4,
 "nbformat_minor": 2
}
